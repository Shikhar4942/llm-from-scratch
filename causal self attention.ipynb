{
 "cells": [
  {
   "cell_type": "code",
   "execution_count": 1,
   "id": "b7e4ebb5",
   "metadata": {},
   "outputs": [],
   "source": [
    "import torch.nn as nn\n",
    "class Self_Attention_v2(nn.Module):\n",
    "    def __init__(self,d_in,d_out,q_bias=False):\n",
    "        super().__init__()\n",
    "        self.W_query=nn.Linear(d_in,d_out,bias=q_bias)\n",
    "        self.W_key=nn.Linear(d_in,d_out,bias=q_bias)\n",
    "        self.W_value=nn.Linear(d_in,d_out,bias=q_bias)\n",
    "    \n",
    "    def forward(self,x):\n",
    "        query_matrix= self.W_query(x)\n",
    "        key_matrix=self.W_key(x)\n",
    "        value_matrix=self.W_value(x)\n",
    "        \n",
    "        attn_scores=query_matrix @ key_matrix.T\n",
    "        attn_weights=torch.softmax(attn_scores/key_matrix.shape[-1]**0.5,dim=-1)\n",
    "        \n",
    "        context_vec=attn_weights @ value_matrix\n",
    "        return context_vec\n",
    "        "
   ]
  },
  {
   "cell_type": "code",
   "execution_count": 2,
   "id": "90222e50",
   "metadata": {},
   "outputs": [
    {
     "data": {
      "application/javascript": [
       "\n",
       "        if (window._pyforest_update_imports_cell) { window._pyforest_update_imports_cell('import torch'); }\n",
       "    "
      ],
      "text/plain": [
       "<IPython.core.display.Javascript object>"
      ]
     },
     "metadata": {},
     "output_type": "display_data"
    }
   ],
   "source": [
    "inputs=torch.tensor([[0.43,0.15,0.89], #your\n",
    "                             [0.55,0.89,0.66], #journey\n",
    "                             [0.57,0.85,0.64],  #starts\n",
    "                             [0.22,0.58,0.33],  #with\n",
    "                             [0.77,0.25,0.10],   #one\n",
    "                             [0.05,0.80,0.55]])  #step"
   ]
  },
  {
   "cell_type": "code",
   "execution_count": 3,
   "id": "13c464e8",
   "metadata": {},
   "outputs": [],
   "source": [
    "d_in=inputs.shape[1]\n",
    "d_out=2"
   ]
  },
  {
   "cell_type": "code",
   "execution_count": 11,
   "id": "a81827fb",
   "metadata": {},
   "outputs": [
    {
     "data": {
      "application/javascript": [
       "\n",
       "        if (window._pyforest_update_imports_cell) { window._pyforest_update_imports_cell('import torch'); }\n",
       "    "
      ],
      "text/plain": [
       "<IPython.core.display.Javascript object>"
      ]
     },
     "metadata": {},
     "output_type": "display_data"
    },
    {
     "data": {
      "application/javascript": [
       "\n",
       "        if (window._pyforest_update_imports_cell) { window._pyforest_update_imports_cell('import torch'); }\n",
       "    "
      ],
      "text/plain": [
       "<IPython.core.display.Javascript object>"
      ]
     },
     "metadata": {},
     "output_type": "display_data"
    },
    {
     "data": {
      "text/plain": [
       "tensor([[0.1922, 0.1641, 0.1653, 0.1551, 0.1722, 0.1510],\n",
       "        [0.2047, 0.1653, 0.1663, 0.1495, 0.1665, 0.1477],\n",
       "        [0.2037, 0.1653, 0.1664, 0.1499, 0.1665, 0.1481],\n",
       "        [0.1870, 0.1664, 0.1669, 0.1572, 0.1662, 0.1565],\n",
       "        [0.1831, 0.1666, 0.1670, 0.1589, 0.1659, 0.1585],\n",
       "        [0.1936, 0.1659, 0.1667, 0.1543, 0.1666, 0.1530]],\n",
       "       grad_fn=<SoftmaxBackward0>)"
      ]
     },
     "execution_count": 11,
     "metadata": {},
     "output_type": "execute_result"
    }
   ],
   "source": [
    "torch.manual_seed(789)\n",
    "sa=Self_Attention_v2(d_in,d_out)\n",
    "queries=sa.W_query(inputs)\n",
    "keys=sa.W_key(inputs)\n",
    "attn_scores=queries @ keys.T\n",
    "attn_weights=torch.softmax(attn_scores/keys.shape[-1]**0.5,dim=-1)\n",
    "attn_weights"
   ]
  },
  {
   "cell_type": "code",
   "execution_count": 12,
   "id": "12922846",
   "metadata": {},
   "outputs": [
    {
     "data": {
      "application/javascript": [
       "\n",
       "        if (window._pyforest_update_imports_cell) { window._pyforest_update_imports_cell('import torch'); }\n",
       "    "
      ],
      "text/plain": [
       "<IPython.core.display.Javascript object>"
      ]
     },
     "metadata": {},
     "output_type": "display_data"
    },
    {
     "data": {
      "application/javascript": [
       "\n",
       "        if (window._pyforest_update_imports_cell) { window._pyforest_update_imports_cell('import torch'); }\n",
       "    "
      ],
      "text/plain": [
       "<IPython.core.display.Javascript object>"
      ]
     },
     "metadata": {},
     "output_type": "display_data"
    },
    {
     "data": {
      "text/plain": [
       "tensor([[1., 0., 0., 0., 0., 0.],\n",
       "        [1., 1., 0., 0., 0., 0.],\n",
       "        [1., 1., 1., 0., 0., 0.],\n",
       "        [1., 1., 1., 1., 0., 0.],\n",
       "        [1., 1., 1., 1., 1., 0.],\n",
       "        [1., 1., 1., 1., 1., 1.]])"
      ]
     },
     "execution_count": 12,
     "metadata": {},
     "output_type": "execute_result"
    }
   ],
   "source": [
    "context_length=attn_weights.shape[0]\n",
    "mask=torch.tril(torch.ones(context_length,context_length))\n",
    "mask\n"
   ]
  },
  {
   "cell_type": "code",
   "execution_count": 13,
   "id": "7ee7359b",
   "metadata": {},
   "outputs": [],
   "source": [
    "masked_attn_weight=mask*attn_weights"
   ]
  },
  {
   "cell_type": "code",
   "execution_count": 10,
   "id": "c8a2cd14",
   "metadata": {},
   "outputs": [
    {
     "data": {
      "text/plain": [
       "tensor([[0.1922, 0.0000, 0.0000, 0.0000, 0.0000, 0.0000],\n",
       "        [0.2047, 0.1653, 0.0000, 0.0000, 0.0000, 0.0000],\n",
       "        [0.2037, 0.1653, 0.1664, 0.0000, 0.0000, 0.0000],\n",
       "        [0.1870, 0.1664, 0.1669, 0.1572, 0.0000, 0.0000],\n",
       "        [0.1831, 0.1666, 0.1670, 0.1589, 0.1659, 0.0000],\n",
       "        [0.1936, 0.1659, 0.1667, 0.1543, 0.1666, 0.1530]],\n",
       "       grad_fn=<MulBackward0>)"
      ]
     },
     "execution_count": 10,
     "metadata": {},
     "output_type": "execute_result"
    }
   ],
   "source": [
    "masked_attn_weight"
   ]
  },
  {
   "cell_type": "code",
   "execution_count": 14,
   "id": "ed8c1d82",
   "metadata": {},
   "outputs": [],
   "source": [
    "sum_row=masked_attn_weight.sum(dim=1,keepdim=True)\n",
    "attn_weight_causal=masked_attn_weight/sum_row"
   ]
  },
  {
   "cell_type": "code",
   "execution_count": 15,
   "id": "70b1ddf0",
   "metadata": {},
   "outputs": [
    {
     "data": {
      "text/plain": [
       "tensor([[0.1922],\n",
       "        [0.3700],\n",
       "        [0.5354],\n",
       "        [0.6774],\n",
       "        [0.8415],\n",
       "        [1.0000]], grad_fn=<SumBackward1>)"
      ]
     },
     "execution_count": 15,
     "metadata": {},
     "output_type": "execute_result"
    }
   ],
   "source": [
    "sum_row"
   ]
  },
  {
   "cell_type": "code",
   "execution_count": 17,
   "id": "893c0001",
   "metadata": {},
   "outputs": [
    {
     "data": {
      "text/plain": [
       "tensor([[1.0000, 0.0000, 0.0000, 0.0000, 0.0000, 0.0000],\n",
       "        [0.5533, 0.4467, 0.0000, 0.0000, 0.0000, 0.0000],\n",
       "        [0.3805, 0.3088, 0.3107, 0.0000, 0.0000, 0.0000],\n",
       "        [0.2760, 0.2456, 0.2464, 0.2320, 0.0000, 0.0000],\n",
       "        [0.2176, 0.1980, 0.1985, 0.1888, 0.1971, 0.0000],\n",
       "        [0.1936, 0.1659, 0.1667, 0.1543, 0.1666, 0.1530]],\n",
       "       grad_fn=<DivBackward0>)"
      ]
     },
     "execution_count": 17,
     "metadata": {},
     "output_type": "execute_result"
    }
   ],
   "source": [
    "attn_weight_causal"
   ]
  },
  {
   "cell_type": "markdown",
   "id": "a1f1b8d7",
   "metadata": {},
   "source": [
    "# -better way\n"
   ]
  },
  {
   "cell_type": "code",
   "execution_count": 18,
   "id": "3c5391c2",
   "metadata": {},
   "outputs": [
    {
     "data": {
      "text/plain": [
       "tensor([[ 0.2899,  0.0665,  0.0760, -0.0138,  0.1344, -0.0511],\n",
       "        [ 0.4712,  0.1687,  0.1778,  0.0268,  0.1788,  0.0097],\n",
       "        [ 0.4594,  0.1642,  0.1731,  0.0259,  0.1745,  0.0090],\n",
       "        [ 0.2642,  0.0990,  0.1036,  0.0186,  0.0973,  0.0122],\n",
       "        [ 0.2183,  0.0847,  0.0882,  0.0177,  0.0786,  0.0144],\n",
       "        [ 0.3408,  0.1225,  0.1290,  0.0198,  0.1290,  0.0078]],\n",
       "       grad_fn=<MmBackward0>)"
      ]
     },
     "execution_count": 18,
     "metadata": {},
     "output_type": "execute_result"
    }
   ],
   "source": [
    "attn_scores\n"
   ]
  },
  {
   "cell_type": "code",
   "execution_count": 30,
   "id": "959e56cc",
   "metadata": {},
   "outputs": [
    {
     "data": {
      "application/javascript": [
       "\n",
       "        if (window._pyforest_update_imports_cell) { window._pyforest_update_imports_cell('import torch'); }\n",
       "    "
      ],
      "text/plain": [
       "<IPython.core.display.Javascript object>"
      ]
     },
     "metadata": {},
     "output_type": "display_data"
    },
    {
     "data": {
      "application/javascript": [
       "\n",
       "        if (window._pyforest_update_imports_cell) { window._pyforest_update_imports_cell('import torch'); }\n",
       "    "
      ],
      "text/plain": [
       "<IPython.core.display.Javascript object>"
      ]
     },
     "metadata": {},
     "output_type": "display_data"
    }
   ],
   "source": [
    "mask_new=torch.triu(torch.ones(context_length,context_length),diagonal=1)"
   ]
  },
  {
   "cell_type": "code",
   "execution_count": 31,
   "id": "370c16f7",
   "metadata": {},
   "outputs": [
    {
     "data": {
      "text/plain": [
       "tensor([[0., 1., 1., 1., 1., 1.],\n",
       "        [0., 0., 1., 1., 1., 1.],\n",
       "        [0., 0., 0., 1., 1., 1.],\n",
       "        [0., 0., 0., 0., 1., 1.],\n",
       "        [0., 0., 0., 0., 0., 1.],\n",
       "        [0., 0., 0., 0., 0., 0.]])"
      ]
     },
     "execution_count": 31,
     "metadata": {},
     "output_type": "execute_result"
    }
   ],
   "source": [
    "mask_new"
   ]
  },
  {
   "cell_type": "code",
   "execution_count": 34,
   "id": "fe148ea7",
   "metadata": {},
   "outputs": [
    {
     "data": {
      "application/javascript": [
       "\n",
       "        if (window._pyforest_update_imports_cell) { window._pyforest_update_imports_cell('import torch'); }\n",
       "    "
      ],
      "text/plain": [
       "<IPython.core.display.Javascript object>"
      ]
     },
     "metadata": {},
     "output_type": "display_data"
    },
    {
     "data": {
      "text/plain": [
       "tensor([[0.2899,   -inf,   -inf,   -inf,   -inf,   -inf],\n",
       "        [0.4712, 0.1687,   -inf,   -inf,   -inf,   -inf],\n",
       "        [0.4594, 0.1642, 0.1731,   -inf,   -inf,   -inf],\n",
       "        [0.2642, 0.0990, 0.1036, 0.0186,   -inf,   -inf],\n",
       "        [0.2183, 0.0847, 0.0882, 0.0177, 0.0786,   -inf],\n",
       "        [0.3408, 0.1225, 0.1290, 0.0198, 0.1290, 0.0078]],\n",
       "       grad_fn=<MaskedFillBackward0>)"
      ]
     },
     "execution_count": 34,
     "metadata": {},
     "output_type": "execute_result"
    }
   ],
   "source": [
    "masked=attn_scores.masked_fill(mask_new.bool(),-torch.inf)\n",
    "masked"
   ]
  },
  {
   "cell_type": "code",
   "execution_count": 35,
   "id": "dd953f0e",
   "metadata": {},
   "outputs": [
    {
     "data": {
      "application/javascript": [
       "\n",
       "        if (window._pyforest_update_imports_cell) { window._pyforest_update_imports_cell('import torch'); }\n",
       "    "
      ],
      "text/plain": [
       "<IPython.core.display.Javascript object>"
      ]
     },
     "metadata": {},
     "output_type": "display_data"
    }
   ],
   "source": [
    "attn_weights_new=torch.softmax(masked/keys.shape[-1]**0.5,dim=-1)"
   ]
  },
  {
   "cell_type": "code",
   "execution_count": 36,
   "id": "b99130ae",
   "metadata": {},
   "outputs": [
    {
     "data": {
      "text/plain": [
       "tensor([[1.0000, 0.0000, 0.0000, 0.0000, 0.0000, 0.0000],\n",
       "        [0.5533, 0.4467, 0.0000, 0.0000, 0.0000, 0.0000],\n",
       "        [0.3805, 0.3088, 0.3107, 0.0000, 0.0000, 0.0000],\n",
       "        [0.2760, 0.2456, 0.2464, 0.2320, 0.0000, 0.0000],\n",
       "        [0.2176, 0.1980, 0.1985, 0.1888, 0.1971, 0.0000],\n",
       "        [0.1936, 0.1659, 0.1667, 0.1543, 0.1666, 0.1530]],\n",
       "       grad_fn=<SoftmaxBackward0>)"
      ]
     },
     "execution_count": 36,
     "metadata": {},
     "output_type": "execute_result"
    }
   ],
   "source": [
    "attn_weights_new"
   ]
  },
  {
   "cell_type": "code",
   "execution_count": 41,
   "id": "ce93bd19",
   "metadata": {},
   "outputs": [],
   "source": [
    "values=sa.W_value(inputs)\n",
    "context_vectors=attn_weights_new @ values"
   ]
  },
  {
   "cell_type": "code",
   "execution_count": 42,
   "id": "108a046a",
   "metadata": {},
   "outputs": [
    {
     "data": {
      "text/plain": [
       "tensor([[-0.0872,  0.0286],\n",
       "        [-0.1003,  0.0493],\n",
       "        [-0.1008,  0.0628],\n",
       "        [-0.0989,  0.0485],\n",
       "        [-0.0520,  0.1095],\n",
       "        [-0.0759,  0.0690]], grad_fn=<MmBackward0>)"
      ]
     },
     "execution_count": 42,
     "metadata": {},
     "output_type": "execute_result"
    }
   ],
   "source": [
    "context_vectors"
   ]
  },
  {
   "cell_type": "markdown",
   "id": "bb997093",
   "metadata": {},
   "source": [
    "# with dropout"
   ]
  },
  {
   "cell_type": "code",
   "execution_count": 57,
   "id": "7226640e",
   "metadata": {},
   "outputs": [
    {
     "data": {
      "application/javascript": [
       "\n",
       "        if (window._pyforest_update_imports_cell) { window._pyforest_update_imports_cell('import torch'); }\n",
       "    "
      ],
      "text/plain": [
       "<IPython.core.display.Javascript object>"
      ]
     },
     "metadata": {},
     "output_type": "display_data"
    },
    {
     "data": {
      "application/javascript": [
       "\n",
       "        if (window._pyforest_update_imports_cell) { window._pyforest_update_imports_cell('import torch'); }\n",
       "    "
      ],
      "text/plain": [
       "<IPython.core.display.Javascript object>"
      ]
     },
     "metadata": {},
     "output_type": "display_data"
    },
    {
     "data": {
      "application/javascript": [
       "\n",
       "        if (window._pyforest_update_imports_cell) { window._pyforest_update_imports_cell('import torch'); }\n",
       "    "
      ],
      "text/plain": [
       "<IPython.core.display.Javascript object>"
      ]
     },
     "metadata": {},
     "output_type": "display_data"
    },
    {
     "data": {
      "text/plain": [
       "tensor([[2., 2., 2., 2., 2., 2.],\n",
       "        [0., 2., 0., 0., 0., 0.],\n",
       "        [0., 0., 2., 0., 2., 0.],\n",
       "        [2., 2., 0., 0., 0., 2.],\n",
       "        [2., 0., 0., 0., 0., 2.],\n",
       "        [0., 2., 0., 0., 0., 0.]])"
      ]
     },
     "execution_count": 57,
     "metadata": {},
     "output_type": "execute_result"
    }
   ],
   "source": [
    "torch.manual_seed(123)\n",
    "dropout=torch.nn.Dropout(0.5)\n",
    "example=torch.ones(6,6)\n",
    "dropout(example)"
   ]
  },
  {
   "cell_type": "markdown",
   "id": "b93f5971",
   "metadata": {},
   "source": [
    "# implementing classes with multiple batch handling capacity\n"
   ]
  },
  {
   "cell_type": "code",
   "execution_count": 74,
   "id": "a31ce7be",
   "metadata": {},
   "outputs": [],
   "source": [
    "class Causal_Attention(nn.Module):\n",
    "    def __init__(self,d_in,d_out,context_length,dropout,q_bias=False):\n",
    "        super().__init__()\n",
    "        self.d_out=d_out\n",
    "        self.W_query=nn.Linear(d_in,d_out,bias=q_bias)\n",
    "        self.W_keys=nn.Linear(d_in,d_out,bias=q_bias)\n",
    "        self.W_values=nn.Linear(d_in,d_out,bias=q_bias)\n",
    "        self.dropout=nn.Dropout(dropout)\n",
    "        self.register_buffer('mask',torch.triu(torch.ones(context_length,context_length),diagonal=1))\n",
    "    #register buffers are used when those things are not to be included in training process :here we have to keep uppertriangular matrix fixed and need not be trained\n",
    "    def forward(self,x):\n",
    "        b,num_tokens,d_in=x.shape    #b=batches , num_tokens, d_in=dimension\n",
    "        keys=self.W_keys(x)\n",
    "        queries=self.W_query(x)\n",
    "        values=self.W_values(x)\n",
    "        \n",
    "        attn_scores=queries @ keys.transpose(1,2)\n",
    "        attn_scores.masked_fill_(self.mask.bool()[:num_tokens,:num_tokens],-torch.inf)  #masked_fill_=in_place change\n",
    "        attn_weights=torch.softmax(attn_scores/keys.shape[-1]**0.5,dim=-1)    #[:num_tokens] is used for cases where no of tokens are less than supported context size]\n",
    "        attn_weights=self.dropout(attn_weights)\n",
    "        context_vectors= attn_weights @ values\n",
    "        return context_vectors"
   ]
  },
  {
   "cell_type": "code",
   "execution_count": 75,
   "id": "b58ad047",
   "metadata": {},
   "outputs": [
    {
     "data": {
      "application/javascript": [
       "\n",
       "        if (window._pyforest_update_imports_cell) { window._pyforest_update_imports_cell('import torch'); }\n",
       "    "
      ],
      "text/plain": [
       "<IPython.core.display.Javascript object>"
      ]
     },
     "metadata": {},
     "output_type": "display_data"
    },
    {
     "data": {
      "application/javascript": [
       "\n",
       "        if (window._pyforest_update_imports_cell) { window._pyforest_update_imports_cell('import torch'); }\n",
       "    "
      ],
      "text/plain": [
       "<IPython.core.display.Javascript object>"
      ]
     },
     "metadata": {},
     "output_type": "display_data"
    }
   ],
   "source": [
    "torch.manual_seed(123)\n",
    "batch=torch.stack((inputs,inputs),0)"
   ]
  },
  {
   "cell_type": "code",
   "execution_count": 76,
   "id": "d22beed5",
   "metadata": {},
   "outputs": [
    {
     "data": {
      "text/plain": [
       "torch.Size([2, 6, 3])"
      ]
     },
     "execution_count": 76,
     "metadata": {},
     "output_type": "execute_result"
    }
   ],
   "source": [
    "batch.size()"
   ]
  },
  {
   "cell_type": "code",
   "execution_count": 77,
   "id": "ca079f3f",
   "metadata": {},
   "outputs": [],
   "source": [
    "context_length=batch.shape[1]"
   ]
  },
  {
   "cell_type": "code",
   "execution_count": 78,
   "id": "a6223840",
   "metadata": {},
   "outputs": [
    {
     "data": {
      "application/javascript": [
       "\n",
       "        if (window._pyforest_update_imports_cell) { window._pyforest_update_imports_cell('import torch'); }\n",
       "    "
      ],
      "text/plain": [
       "<IPython.core.display.Javascript object>"
      ]
     },
     "metadata": {},
     "output_type": "display_data"
    },
    {
     "data": {
      "application/javascript": [
       "\n",
       "        if (window._pyforest_update_imports_cell) { window._pyforest_update_imports_cell('import torch'); }\n",
       "    "
      ],
      "text/plain": [
       "<IPython.core.display.Javascript object>"
      ]
     },
     "metadata": {},
     "output_type": "display_data"
    }
   ],
   "source": [
    "ca=Causal_Attention(d_in,d_out,context_length,0)"
   ]
  },
  {
   "cell_type": "code",
   "execution_count": 79,
   "id": "bf756716",
   "metadata": {},
   "outputs": [
    {
     "data": {
      "application/javascript": [
       "\n",
       "        if (window._pyforest_update_imports_cell) { window._pyforest_update_imports_cell('import torch'); }\n",
       "    "
      ],
      "text/plain": [
       "<IPython.core.display.Javascript object>"
      ]
     },
     "metadata": {},
     "output_type": "display_data"
    },
    {
     "data": {
      "application/javascript": [
       "\n",
       "        if (window._pyforest_update_imports_cell) { window._pyforest_update_imports_cell('import torch'); }\n",
       "    "
      ],
      "text/plain": [
       "<IPython.core.display.Javascript object>"
      ]
     },
     "metadata": {},
     "output_type": "display_data"
    },
    {
     "data": {
      "text/plain": [
       "tensor([[[-0.4519,  0.2216],\n",
       "         [-0.5913,  0.0009],\n",
       "         [-0.6325, -0.0663],\n",
       "         [-0.5693, -0.0865],\n",
       "         [-0.5540, -0.0999],\n",
       "         [-0.5311, -0.1096]],\n",
       "\n",
       "        [[-0.4519,  0.2216],\n",
       "         [-0.5913,  0.0009],\n",
       "         [-0.6325, -0.0663],\n",
       "         [-0.5693, -0.0865],\n",
       "         [-0.5540, -0.0999],\n",
       "         [-0.5311, -0.1096]]], grad_fn=<UnsafeViewBackward0>)"
      ]
     },
     "execution_count": 79,
     "metadata": {},
     "output_type": "execute_result"
    }
   ],
   "source": [
    "ca(batch)"
   ]
  },
  {
   "cell_type": "code",
   "execution_count": 80,
   "id": "b5b49137",
   "metadata": {},
   "outputs": [
    {
     "data": {
      "application/javascript": [
       "\n",
       "        if (window._pyforest_update_imports_cell) { window._pyforest_update_imports_cell('import torch'); }\n",
       "    "
      ],
      "text/plain": [
       "<IPython.core.display.Javascript object>"
      ]
     },
     "metadata": {},
     "output_type": "display_data"
    },
    {
     "data": {
      "application/javascript": [
       "\n",
       "        if (window._pyforest_update_imports_cell) { window._pyforest_update_imports_cell('import torch'); }\n",
       "    "
      ],
      "text/plain": [
       "<IPython.core.display.Javascript object>"
      ]
     },
     "metadata": {},
     "output_type": "display_data"
    }
   ],
   "source": [
    "ca1=Causal_Attention(d_in,d_out,context_length,0.5)"
   ]
  },
  {
   "cell_type": "code",
   "execution_count": 81,
   "id": "cfb8f05c",
   "metadata": {},
   "outputs": [
    {
     "data": {
      "application/javascript": [
       "\n",
       "        if (window._pyforest_update_imports_cell) { window._pyforest_update_imports_cell('import torch'); }\n",
       "    "
      ],
      "text/plain": [
       "<IPython.core.display.Javascript object>"
      ]
     },
     "metadata": {},
     "output_type": "display_data"
    },
    {
     "data": {
      "application/javascript": [
       "\n",
       "        if (window._pyforest_update_imports_cell) { window._pyforest_update_imports_cell('import torch'); }\n",
       "    "
      ],
      "text/plain": [
       "<IPython.core.display.Javascript object>"
      ]
     },
     "metadata": {},
     "output_type": "display_data"
    },
    {
     "data": {
      "text/plain": [
       "tensor([[[0.9544, 0.2127],\n",
       "         [1.1849, 0.6633],\n",
       "         [0.7545, 0.4147],\n",
       "         [0.7494, 0.4676],\n",
       "         [0.4580, 0.2461],\n",
       "         [0.8510, 0.5984]],\n",
       "\n",
       "        [[0.9544, 0.2127],\n",
       "         [0.0000, 0.0000],\n",
       "         [0.0000, 0.0000],\n",
       "         [0.5335, 0.4195],\n",
       "         [0.9262, 0.5676],\n",
       "         [0.5962, 0.4636]]], grad_fn=<UnsafeViewBackward0>)"
      ]
     },
     "execution_count": 81,
     "metadata": {},
     "output_type": "execute_result"
    }
   ],
   "source": [
    "ca1(batch)"
   ]
  },
  {
   "cell_type": "code",
   "execution_count": null,
   "id": "d62c7583",
   "metadata": {},
   "outputs": [],
   "source": []
  },
  {
   "cell_type": "code",
   "execution_count": null,
   "id": "19924fbd",
   "metadata": {},
   "outputs": [],
   "source": []
  }
 ],
 "metadata": {
  "kernelspec": {
   "display_name": "Python 3 (ipykernel)",
   "language": "python",
   "name": "python3"
  },
  "language_info": {
   "codemirror_mode": {
    "name": "ipython",
    "version": 3
   },
   "file_extension": ".py",
   "mimetype": "text/x-python",
   "name": "python",
   "nbconvert_exporter": "python",
   "pygments_lexer": "ipython3",
   "version": "3.11.5"
  }
 },
 "nbformat": 4,
 "nbformat_minor": 5
}
