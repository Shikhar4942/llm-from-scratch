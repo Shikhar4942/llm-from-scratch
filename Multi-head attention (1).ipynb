{
 "cells": [
  {
   "cell_type": "code",
   "execution_count": 2,
   "id": "ace05bab",
   "metadata": {},
   "outputs": [],
   "source": [
    "import torch.nn as nn"
   ]
  },
  {
   "cell_type": "code",
   "execution_count": 3,
   "id": "13241759",
   "metadata": {},
   "outputs": [],
   "source": [
    "class Causal_Attention(nn.Module):\n",
    "    def __init__(self,d_in,d_out,context_length,dropout,q_bias=False):\n",
    "        super().__init__()\n",
    "        self.d_out=d_out\n",
    "        self.W_query=nn.Linear(d_in,d_out,bias=q_bias)\n",
    "        self.W_keys=nn.Linear(d_in,d_out,bias=q_bias)\n",
    "        self.W_values=nn.Linear(d_in,d_out,bias=q_bias)\n",
    "        self.dropout=nn.Dropout(dropout)\n",
    "        self.register_buffer('mask',torch.triu(torch.ones(context_length,context_length),diagonal=1))\n",
    "    #register buffers are used when those things are not to be included in training process :here we have to keep uppertriangular matrix fixed and need not be trained\n",
    "    def forward(self,x):\n",
    "        b,num_tokens,d_in=x.shape    #b=batches , num_tokens, d_in=dimension\n",
    "        keys=self.W_keys(x)\n",
    "        queries=self.W_query(x)\n",
    "        values=self.W_values(x)\n",
    "        \n",
    "        attn_scores=queries @ keys.transpose(1,2)\n",
    "        attn_scores.masked_fill_(self.mask.bool()[:num_tokens,:num_tokens],-torch.inf)  #masked_fill_=in_place change\n",
    "        attn_weights=torch.softmax(attn_scores/keys.shape[-1]**0.5,dim=-1)    #[:num_tokens] is used for cases where no of tokens are less than supported context size]\n",
    "        attn_weights=self.dropout(attn_weights)\n",
    "        context_vectors= attn_weights @ values\n",
    "        return context_vectors"
   ]
  },
  {
   "cell_type": "code",
   "execution_count": 4,
   "id": "6e6d5245",
   "metadata": {},
   "outputs": [],
   "source": [
    "class Multihead_Attention(nn.Module):\n",
    "    def __init__(self,d_in,d_out,context_length,num_heads,dropout,q_bias=False):\n",
    "        super().__init__()\n",
    "        self.heads=nn.ModuleList([Causal_Attention(d_in,d_out,context_length,dropout,q_bias)for _ in range(num_heads)])\n",
    "        \n",
    "    def forward(self,x):\n",
    "        return torch.cat([head(x) for head in self.heads],dim=-1)\n",
    "    "
   ]
  },
  {
   "cell_type": "code",
   "execution_count": 5,
   "id": "9bb90ed4",
   "metadata": {},
   "outputs": [
    {
     "data": {
      "application/javascript": [
       "\n",
       "        if (window._pyforest_update_imports_cell) { window._pyforest_update_imports_cell('import torch'); }\n",
       "    "
      ],
      "text/plain": [
       "<IPython.core.display.Javascript object>"
      ]
     },
     "metadata": {},
     "output_type": "display_data"
    },
    {
     "data": {
      "application/javascript": [
       "\n",
       "        if (window._pyforest_update_imports_cell) { window._pyforest_update_imports_cell('import torch'); }\n",
       "    "
      ],
      "text/plain": [
       "<IPython.core.display.Javascript object>"
      ]
     },
     "metadata": {},
     "output_type": "display_data"
    },
    {
     "data": {
      "application/javascript": [
       "\n",
       "        if (window._pyforest_update_imports_cell) { window._pyforest_update_imports_cell('import torch'); }\n",
       "    "
      ],
      "text/plain": [
       "<IPython.core.display.Javascript object>"
      ]
     },
     "metadata": {},
     "output_type": "display_data"
    }
   ],
   "source": [
    "inputs=torch.tensor([[0.43,0.15,0.89], #your\n",
    "                             [0.55,0.89,0.66], #journey\n",
    "                             [0.57,0.85,0.64],  #starts\n",
    "                             [0.22,0.58,0.33],  #with\n",
    "                             [0.77,0.25,0.10],   #one\n",
    "                             [0.05,0.80,0.55]])  #step\n",
    "torch.manual_seed(123)\n",
    "batch=torch.stack((inputs,inputs),0)"
   ]
  },
  {
   "cell_type": "code",
   "execution_count": 6,
   "id": "9dd1a9a2",
   "metadata": {},
   "outputs": [
    {
     "data": {
      "application/javascript": [
       "\n",
       "        if (window._pyforest_update_imports_cell) { window._pyforest_update_imports_cell('import torch'); }\n",
       "    "
      ],
      "text/plain": [
       "<IPython.core.display.Javascript object>"
      ]
     },
     "metadata": {},
     "output_type": "display_data"
    },
    {
     "data": {
      "application/javascript": [
       "\n",
       "        if (window._pyforest_update_imports_cell) { window._pyforest_update_imports_cell('import torch'); }\n",
       "    "
      ],
      "text/plain": [
       "<IPython.core.display.Javascript object>"
      ]
     },
     "metadata": {},
     "output_type": "display_data"
    },
    {
     "data": {
      "application/javascript": [
       "\n",
       "        if (window._pyforest_update_imports_cell) { window._pyforest_update_imports_cell('import torch'); }\n",
       "    "
      ],
      "text/plain": [
       "<IPython.core.display.Javascript object>"
      ]
     },
     "metadata": {},
     "output_type": "display_data"
    },
    {
     "data": {
      "application/javascript": [
       "\n",
       "        if (window._pyforest_update_imports_cell) { window._pyforest_update_imports_cell('import torch'); }\n",
       "    "
      ],
      "text/plain": [
       "<IPython.core.display.Javascript object>"
      ]
     },
     "metadata": {},
     "output_type": "display_data"
    },
    {
     "data": {
      "application/javascript": [
       "\n",
       "        if (window._pyforest_update_imports_cell) { window._pyforest_update_imports_cell('import torch'); }\n",
       "    "
      ],
      "text/plain": [
       "<IPython.core.display.Javascript object>"
      ]
     },
     "metadata": {},
     "output_type": "display_data"
    },
    {
     "data": {
      "application/javascript": [
       "\n",
       "        if (window._pyforest_update_imports_cell) { window._pyforest_update_imports_cell('import torch'); }\n",
       "    "
      ],
      "text/plain": [
       "<IPython.core.display.Javascript object>"
      ]
     },
     "metadata": {},
     "output_type": "display_data"
    },
    {
     "data": {
      "application/javascript": [
       "\n",
       "        if (window._pyforest_update_imports_cell) { window._pyforest_update_imports_cell('import torch'); }\n",
       "    "
      ],
      "text/plain": [
       "<IPython.core.display.Javascript object>"
      ]
     },
     "metadata": {},
     "output_type": "display_data"
    },
    {
     "data": {
      "application/javascript": [
       "\n",
       "        if (window._pyforest_update_imports_cell) { window._pyforest_update_imports_cell('import torch'); }\n",
       "    "
      ],
      "text/plain": [
       "<IPython.core.display.Javascript object>"
      ]
     },
     "metadata": {},
     "output_type": "display_data"
    },
    {
     "data": {
      "application/javascript": [
       "\n",
       "        if (window._pyforest_update_imports_cell) { window._pyforest_update_imports_cell('import torch'); }\n",
       "    "
      ],
      "text/plain": [
       "<IPython.core.display.Javascript object>"
      ]
     },
     "metadata": {},
     "output_type": "display_data"
    },
    {
     "data": {
      "application/javascript": [
       "\n",
       "        if (window._pyforest_update_imports_cell) { window._pyforest_update_imports_cell('import torch'); }\n",
       "    "
      ],
      "text/plain": [
       "<IPython.core.display.Javascript object>"
      ]
     },
     "metadata": {},
     "output_type": "display_data"
    }
   ],
   "source": [
    "torch.manual_seed(123)\n",
    "context_length=batch.shape[1]\n",
    "d_in=3\n",
    "d_out=2\n",
    "multi=Multihead_Attention(d_in,d_out,context_length,num_heads=2,dropout=0)\n",
    "context_vectors=multi(batch)"
   ]
  },
  {
   "cell_type": "code",
   "execution_count": 7,
   "id": "277ce938",
   "metadata": {},
   "outputs": [
    {
     "data": {
      "text/plain": [
       "torch.Size([2, 6, 4])"
      ]
     },
     "execution_count": 7,
     "metadata": {},
     "output_type": "execute_result"
    }
   ],
   "source": [
    "context_vectors.size()"
   ]
  },
  {
   "cell_type": "code",
   "execution_count": 8,
   "id": "390ac15a",
   "metadata": {},
   "outputs": [
    {
     "data": {
      "text/plain": [
       "tensor([[[-0.4519,  0.2216,  0.4772,  0.1063],\n",
       "         [-0.5913,  0.0009,  0.5925,  0.3316],\n",
       "         [-0.6325, -0.0663,  0.6223,  0.3896],\n",
       "         [-0.5693, -0.0865,  0.5493,  0.3615],\n",
       "         [-0.5540, -0.0999,  0.5332,  0.3448],\n",
       "         [-0.5311, -0.1096,  0.5087,  0.3511]],\n",
       "\n",
       "        [[-0.4519,  0.2216,  0.4772,  0.1063],\n",
       "         [-0.5913,  0.0009,  0.5925,  0.3316],\n",
       "         [-0.6325, -0.0663,  0.6223,  0.3896],\n",
       "         [-0.5693, -0.0865,  0.5493,  0.3615],\n",
       "         [-0.5540, -0.0999,  0.5332,  0.3448],\n",
       "         [-0.5311, -0.1096,  0.5087,  0.3511]]], grad_fn=<CatBackward0>)"
      ]
     },
     "execution_count": 8,
     "metadata": {},
     "output_type": "execute_result"
    }
   ],
   "source": [
    "context_vectors"
   ]
  },
  {
   "cell_type": "markdown",
   "id": "a5b6c84a",
   "metadata": {},
   "source": [
    "# with weight splits"
   ]
  },
  {
   "cell_type": "code",
   "execution_count": 49,
   "id": "f468c918",
   "metadata": {},
   "outputs": [],
   "source": [
    "class Multihead_Attention_V2(nn.Module):\n",
    "    def __init__(self,d_in,d_out,context_length,num_heads,dropout,q_bias=False):\n",
    "        super().__init__()\n",
    "        assert (d_out % num_heads == 0), \\\n",
    "            \"d_out must be divisible by num_heads\"\n",
    "        self.d_out=d_out\n",
    "        self.num_heads=num_heads\n",
    "        self.W_query=nn.Linear(d_in,d_out,bias=q_bias)\n",
    "        self.W_keys=nn.Linear(d_in,d_out,bias=q_bias)\n",
    "        self.W_values=nn.Linear(d_in,d_out,bias=q_bias)\n",
    "        self.head_dim=d_out//num_heads\n",
    "        self.out_proj=nn.Linear(d_out,d_out)\n",
    "        self.dropout=nn.Dropout(dropout)\n",
    "        self.register_buffer('mask',torch.triu(torch.ones(context_length,context_length),diagonal=1))\n",
    "        \n",
    "    \n",
    "    def forward(self,x):\n",
    "        b,num_tokens,d_in=x.shape\n",
    "        keys=self.W_keys(x)\n",
    "        queries=self.W_query(x)\n",
    "        values=self.W_values(x)\n",
    "        #now change dimensions\n",
    "        \n",
    "        keys=keys.view(b,num_tokens,self.num_heads,self.head_dim)\n",
    "        queries=queries.view(b,num_tokens,self.num_heads,self.head_dim)\n",
    "        values=values.view(b,num_tokens,self.num_heads,self.head_dim)\n",
    "        #group as num_heads\n",
    "        keys=keys.transpose(1,2)\n",
    "        queries=queries.transpose(1,2)\n",
    "        values=values.transpose(1,2)\n",
    "        \n",
    "        attn_scores=queries @ keys.transpose(2,3)\n",
    "        \n",
    "        mask_bool=self.mask.bool()[:num_tokens, :num_tokens]  #if num_tokens is less than specified context length\n",
    "        \n",
    "        attn_scores.masked_fill_(mask_bool,-torch.inf)\n",
    "        \n",
    "        attn_weights=torch.softmax(attn_scores/keys.shape[-1]**0.5,dim=-1)\n",
    "        attn_weights=self.dropout(attn_weights)\n",
    "        \n",
    "        context_vectors=(attn_weights @ values).transpose(1,2)\n",
    "        context_vectors=context_vectors.contiguous().view(b,num_tokens,self.d_out)\n",
    "        context_vectors=self.out_proj(context_vectors)\n",
    "        \n",
    "        return context_vectors\n",
    "        \n",
    "        \n",
    "        "
   ]
  },
  {
   "cell_type": "markdown",
   "id": "81d3dccf",
   "metadata": {},
   "source": [
    "# creating an instance of the class"
   ]
  },
  {
   "cell_type": "code",
   "execution_count": 50,
   "id": "6562975f",
   "metadata": {},
   "outputs": [
    {
     "data": {
      "application/javascript": [
       "\n",
       "        if (window._pyforest_update_imports_cell) { window._pyforest_update_imports_cell('import torch'); }\n",
       "    "
      ],
      "text/plain": [
       "<IPython.core.display.Javascript object>"
      ]
     },
     "metadata": {},
     "output_type": "display_data"
    },
    {
     "data": {
      "application/javascript": [
       "\n",
       "        if (window._pyforest_update_imports_cell) { window._pyforest_update_imports_cell('import torch'); }\n",
       "    "
      ],
      "text/plain": [
       "<IPython.core.display.Javascript object>"
      ]
     },
     "metadata": {},
     "output_type": "display_data"
    },
    {
     "data": {
      "application/javascript": [
       "\n",
       "        if (window._pyforest_update_imports_cell) { window._pyforest_update_imports_cell('import torch'); }\n",
       "    "
      ],
      "text/plain": [
       "<IPython.core.display.Javascript object>"
      ]
     },
     "metadata": {},
     "output_type": "display_data"
    },
    {
     "data": {
      "application/javascript": [
       "\n",
       "        if (window._pyforest_update_imports_cell) { window._pyforest_update_imports_cell('import torch'); }\n",
       "    "
      ],
      "text/plain": [
       "<IPython.core.display.Javascript object>"
      ]
     },
     "metadata": {},
     "output_type": "display_data"
    },
    {
     "data": {
      "application/javascript": [
       "\n",
       "        if (window._pyforest_update_imports_cell) { window._pyforest_update_imports_cell('import torch'); }\n",
       "    "
      ],
      "text/plain": [
       "<IPython.core.display.Javascript object>"
      ]
     },
     "metadata": {},
     "output_type": "display_data"
    },
    {
     "data": {
      "application/javascript": [
       "\n",
       "        if (window._pyforest_update_imports_cell) { window._pyforest_update_imports_cell('import torch'); }\n",
       "    "
      ],
      "text/plain": [
       "<IPython.core.display.Javascript object>"
      ]
     },
     "metadata": {},
     "output_type": "display_data"
    },
    {
     "data": {
      "application/javascript": [
       "\n",
       "        if (window._pyforest_update_imports_cell) { window._pyforest_update_imports_cell('import torch'); }\n",
       "    "
      ],
      "text/plain": [
       "<IPython.core.display.Javascript object>"
      ]
     },
     "metadata": {},
     "output_type": "display_data"
    },
    {
     "data": {
      "text/plain": [
       "tensor([[[ 0.0719, -0.2033, -0.1114,  0.0696, -0.4202, -0.3544],\n",
       "         [ 0.0661, -0.0972,  0.0067, -0.0077, -0.3788, -0.3595],\n",
       "         [ 0.1325, -0.0153,  0.1036, -0.0873, -0.2743, -0.2474]],\n",
       "\n",
       "        [[ 0.1765, -0.0618,  0.0931,  0.0191, -0.3341, -0.2435],\n",
       "         [ 0.0661, -0.0972,  0.0067, -0.0077, -0.3788, -0.3595],\n",
       "         [ 0.1350, -0.0790, -0.0160, -0.0484, -0.2638, -0.2286]]],\n",
       "       grad_fn=<ViewBackward0>)"
      ]
     },
     "execution_count": 50,
     "metadata": {},
     "output_type": "execute_result"
    }
   ],
   "source": [
    "torch.manual_seed(123)\n",
    "inputs=torch.tensor([[0.43,0.18,0.89,0.55,0.87,0.66],\n",
    "                    [0.57,0.85,0.64,0.22,0.58,0.33],\n",
    "                    [0.77,0.25,0.10,0.05,0.80,0.55]])\n",
    "batch=torch.stack((inputs,inputs),dim=0)\n",
    "batch_size,context_length,d_in=batch.shape\n",
    "d_out=6\n",
    "mha_=Multihead_Attention_V2(d_in,d_out,context_length,num_heads=2,dropout=0.2)\n",
    "context_vectors=mha_(batch)\n",
    "context_vectors"
   ]
  },
  {
   "cell_type": "code",
   "execution_count": 36,
   "id": "1f089a72",
   "metadata": {},
   "outputs": [
    {
     "data": {
      "text/plain": [
       "torch.Size([2, 3, 6])"
      ]
     },
     "execution_count": 36,
     "metadata": {},
     "output_type": "execute_result"
    }
   ],
   "source": [
    "batch.shape"
   ]
  },
  {
   "cell_type": "code",
   "execution_count": 37,
   "id": "6becba5b",
   "metadata": {},
   "outputs": [
    {
     "data": {
      "text/plain": [
       "tensor([[[0.4300, 0.1800, 0.8900, 0.5500, 0.8700, 0.6600],\n",
       "         [0.5700, 0.8500, 0.6400, 0.2200, 0.5800, 0.3300],\n",
       "         [0.7700, 0.2500, 0.1000, 0.0500, 0.8000, 0.5500]],\n",
       "\n",
       "        [[0.4300, 0.1800, 0.8900, 0.5500, 0.8700, 0.6600],\n",
       "         [0.5700, 0.8500, 0.6400, 0.2200, 0.5800, 0.3300],\n",
       "         [0.7700, 0.2500, 0.1000, 0.0500, 0.8000, 0.5500]]])"
      ]
     },
     "execution_count": 37,
     "metadata": {},
     "output_type": "execute_result"
    }
   ],
   "source": [
    "batch"
   ]
  },
  {
   "cell_type": "code",
   "execution_count": 42,
   "id": "e26575f4",
   "metadata": {},
   "outputs": [],
   "source": []
  },
  {
   "cell_type": "code",
   "execution_count": null,
   "id": "6ceeb325",
   "metadata": {},
   "outputs": [],
   "source": []
  },
  {
   "cell_type": "code",
   "execution_count": null,
   "id": "d1307db1",
   "metadata": {},
   "outputs": [],
   "source": []
  }
 ],
 "metadata": {
  "kernelspec": {
   "display_name": "Python 3 (ipykernel)",
   "language": "python",
   "name": "python3"
  },
  "language_info": {
   "codemirror_mode": {
    "name": "ipython",
    "version": 3
   },
   "file_extension": ".py",
   "mimetype": "text/x-python",
   "name": "python",
   "nbconvert_exporter": "python",
   "pygments_lexer": "ipython3",
   "version": "3.11.5"
  }
 },
 "nbformat": 4,
 "nbformat_minor": 5
}
