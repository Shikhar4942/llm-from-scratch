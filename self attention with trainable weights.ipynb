{
 "cells": [
  {
   "cell_type": "code",
   "execution_count": 1,
   "id": "fb667440",
   "metadata": {},
   "outputs": [],
   "source": [
    "import torch"
   ]
  },
  {
   "cell_type": "code",
   "execution_count": 2,
   "id": "3de59788",
   "metadata": {},
   "outputs": [],
   "source": [
    "inputs=torch.tensor([[0.43,0.15,0.89], #your\n",
    "                             [0.55,0.89,0.66], #journey\n",
    "                             [0.57,0.85,0.64],  #starts\n",
    "                             [0.22,0.58,0.33],  #with\n",
    "                             [0.77,0.25,0.10],   #one\n",
    "                             [0.05,0.80,0.55]])  #step"
   ]
  },
  {
   "cell_type": "code",
   "execution_count": 4,
   "id": "ae1519e8",
   "metadata": {},
   "outputs": [],
   "source": [
    "d_in=inputs.shape[1]\n",
    "d_out=2"
   ]
  },
  {
   "cell_type": "code",
   "execution_count": 9,
   "id": "3b74631f",
   "metadata": {},
   "outputs": [],
   "source": [
    "torch.manual_seed(123)\n",
    "W_query=torch.nn.Parameter(torch.rand(d_in,d_out))\n",
    "W_key=torch.nn.Parameter(torch.rand(d_in,d_out))\n",
    "W_value=torch.nn.Parameter(torch.rand(d_in,d_out))"
   ]
  },
  {
   "cell_type": "code",
   "execution_count": 10,
   "id": "af0491cb",
   "metadata": {},
   "outputs": [
    {
     "data": {
      "text/plain": [
       "Parameter containing:\n",
       "tensor([[0.2961, 0.5166],\n",
       "        [0.2517, 0.6886],\n",
       "        [0.0740, 0.8665]], requires_grad=True)"
      ]
     },
     "execution_count": 10,
     "metadata": {},
     "output_type": "execute_result"
    }
   ],
   "source": [
    "W_query"
   ]
  },
  {
   "cell_type": "code",
   "execution_count": 12,
   "id": "c0afcc4f",
   "metadata": {},
   "outputs": [],
   "source": [
    "query_matrix=inputs@W_query\n",
    "key_matrix=inputs@W_key\n",
    "value_matrix=inputs@W_value"
   ]
  },
  {
   "cell_type": "code",
   "execution_count": 13,
   "id": "d005bbcd",
   "metadata": {},
   "outputs": [
    {
     "data": {
      "text/plain": [
       "tensor([[0.2309, 1.0966],\n",
       "        [0.4357, 1.4688],\n",
       "        [0.4300, 1.4343],\n",
       "        [0.2355, 0.7990],\n",
       "        [0.2983, 0.6565],\n",
       "        [0.2568, 1.0533]], grad_fn=<MmBackward0>)"
      ]
     },
     "execution_count": 13,
     "metadata": {},
     "output_type": "execute_result"
    }
   ],
   "source": [
    "query_matrix"
   ]
  },
  {
   "cell_type": "code",
   "execution_count": 15,
   "id": "c3446760",
   "metadata": {},
   "outputs": [],
   "source": [
    "query_2=query_matrix[1]"
   ]
  },
  {
   "cell_type": "code",
   "execution_count": 16,
   "id": "efabfc40",
   "metadata": {},
   "outputs": [],
   "source": [
    "attn_score_2=query_2 @ key_matrix.T"
   ]
  },
  {
   "cell_type": "code",
   "execution_count": 18,
   "id": "fff01eac",
   "metadata": {},
   "outputs": [
    {
     "name": "stdout",
     "output_type": "stream",
     "text": [
      "tensor([1.2829, 1.8933, 1.8287, 1.0900, 0.5632, 1.5589],\n",
      "       grad_fn=<SqueezeBackward4>)\n"
     ]
    }
   ],
   "source": [
    "print(attn_score_2)"
   ]
  },
  {
   "cell_type": "code",
   "execution_count": 19,
   "id": "e0da7a59",
   "metadata": {},
   "outputs": [],
   "source": [
    "attn_scores=query_matrix@key_matrix.T"
   ]
  },
  {
   "cell_type": "code",
   "execution_count": 20,
   "id": "c542a652",
   "metadata": {},
   "outputs": [
    {
     "data": {
      "text/plain": [
       "tensor([[0.9231, 1.3713, 1.3241, 0.7910, 0.4032, 1.1330],\n",
       "        [1.2829, 1.8933, 1.8287, 1.0900, 0.5632, 1.5589],\n",
       "        [1.2544, 1.8508, 1.7877, 1.0654, 0.5508, 1.5238],\n",
       "        [0.6973, 1.0292, 0.9941, 0.5925, 0.3061, 0.8475],\n",
       "        [0.6114, 0.8926, 0.8626, 0.5121, 0.2707, 0.7307],\n",
       "        [0.8995, 1.3328, 1.2871, 0.7682, 0.3937, 1.0996]],\n",
       "       grad_fn=<MmBackward0>)"
      ]
     },
     "execution_count": 20,
     "metadata": {},
     "output_type": "execute_result"
    }
   ],
   "source": [
    "attn_scores"
   ]
  },
  {
   "cell_type": "code",
   "execution_count": 22,
   "id": "85785291",
   "metadata": {},
   "outputs": [],
   "source": [
    "d_key=key_matrix.shape[-1]\n",
    "attn_weights=torch.softmax(attn_scores/d_key**0.5,dim=-1)"
   ]
  },
  {
   "cell_type": "code",
   "execution_count": 23,
   "id": "b211a332",
   "metadata": {},
   "outputs": [
    {
     "data": {
      "text/plain": [
       "tensor([[0.1547, 0.2124, 0.2054, 0.1409, 0.1071, 0.1794],\n",
       "        [0.1493, 0.2298, 0.2196, 0.1302, 0.0897, 0.1814],\n",
       "        [0.1498, 0.2284, 0.2184, 0.1311, 0.0911, 0.1812],\n",
       "        [0.1588, 0.2008, 0.1959, 0.1475, 0.1204, 0.1766],\n",
       "        [0.1608, 0.1961, 0.1920, 0.1499, 0.1263, 0.1749],\n",
       "        [0.1554, 0.2111, 0.2043, 0.1416, 0.1086, 0.1790]],\n",
       "       grad_fn=<SoftmaxBackward0>)"
      ]
     },
     "execution_count": 23,
     "metadata": {},
     "output_type": "execute_result"
    }
   ],
   "source": [
    "attn_weights"
   ]
  },
  {
   "cell_type": "code",
   "execution_count": 24,
   "id": "5e02e6cd",
   "metadata": {},
   "outputs": [],
   "source": [
    "context_vectors=attn_weights@value_matrix"
   ]
  },
  {
   "cell_type": "code",
   "execution_count": 25,
   "id": "875c732e",
   "metadata": {},
   "outputs": [
    {
     "data": {
      "text/plain": [
       "tensor([[0.3012, 0.8075],\n",
       "        [0.3081, 0.8241],\n",
       "        [0.3075, 0.8228],\n",
       "        [0.2962, 0.7959],\n",
       "        [0.2941, 0.7910],\n",
       "        [0.3006, 0.8062]], grad_fn=<MmBackward0>)"
      ]
     },
     "execution_count": 25,
     "metadata": {},
     "output_type": "execute_result"
    }
   ],
   "source": [
    "context_vectors"
   ]
  },
  {
   "cell_type": "markdown",
   "id": "a43d9b6b",
   "metadata": {},
   "source": [
    "# organising into classes"
   ]
  },
  {
   "cell_type": "code",
   "execution_count": 31,
   "id": "e5ae110d",
   "metadata": {},
   "outputs": [],
   "source": [
    "import torch.nn as nn\n",
    "class Self_Attention_v1(nn.Module):\n",
    "    def __init__(self,d_in,d_out):\n",
    "        super().__init__()\n",
    "        self.W_query=nn.Parameter(torch.rand(d_in,d_out))\n",
    "        self.W_key=nn.Parameter(torch.rand(d_in,d_out))\n",
    "        self.W_value=nn.Parameter(torch.rand(d_in,d_out))\n",
    "    \n",
    "    def forward(self,x):\n",
    "        query_matrix=x@ self.W_query\n",
    "        key_matrix=x@ self.W_key\n",
    "        value_matrix=x@ self.W_value\n",
    "        \n",
    "        attn_scores=query_matrix @ key_matrix.T\n",
    "        attn_weights=torch.softmax(attn_scores/key_matrix.shape[-1]**0.5,dim=-1)\n",
    "        \n",
    "        context_vec=attn_weights @ value_matrix\n",
    "        return context_vec\n",
    "        \n",
    "        "
   ]
  },
  {
   "cell_type": "code",
   "execution_count": 32,
   "id": "4eefe5e9",
   "metadata": {},
   "outputs": [
    {
     "data": {
      "text/plain": [
       "tensor([[0.3012, 0.8075],\n",
       "        [0.3081, 0.8241],\n",
       "        [0.3075, 0.8228],\n",
       "        [0.2962, 0.7959],\n",
       "        [0.2941, 0.7910],\n",
       "        [0.3006, 0.8062]], grad_fn=<MmBackward0>)"
      ]
     },
     "execution_count": 32,
     "metadata": {},
     "output_type": "execute_result"
    }
   ],
   "source": [
    "torch.manual_seed(123)\n",
    "sa=Self_Attention_v1(d_in,d_out)\n",
    "sa(inputs)"
   ]
  },
  {
   "cell_type": "code",
   "execution_count": 40,
   "id": "652a48e8",
   "metadata": {},
   "outputs": [],
   "source": [
    "import torch.nn as nn\n",
    "class Self_Attention_v2(nn.Module):\n",
    "    def __init__(self,d_in,d_out,q_bias=False):\n",
    "        super().__init__()\n",
    "        self.W_query=nn.Linear(d_in,d_out,bias=q_bias)\n",
    "        self.W_key=nn.Linear(d_in,d_out,bias=q_bias)\n",
    "        self.W_value=nn.Linear(d_in,d_out,bias=q_bias)\n",
    "    \n",
    "    def forward(self,x):\n",
    "        query_matrix= self.W_query(x)\n",
    "        key_matrix=self.W_key(x)\n",
    "        value_matrix=self.W_value(x)\n",
    "        \n",
    "        attn_scores=query_matrix @ key_matrix.T\n",
    "        attn_weights=torch.softmax(attn_scores/key_matrix.shape[-1]**0.5,dim=-1)\n",
    "        \n",
    "        context_vec=attn_weights @ value_matrix\n",
    "        return context_vec\n",
    "        "
   ]
  },
  {
   "cell_type": "code",
   "execution_count": 41,
   "id": "129b168c",
   "metadata": {},
   "outputs": [
    {
     "data": {
      "text/plain": [
       "tensor([[-0.0743,  0.0710],\n",
       "        [-0.0753,  0.0700],\n",
       "        [-0.0753,  0.0700],\n",
       "        [-0.0765,  0.0682],\n",
       "        [-0.0768,  0.0677],\n",
       "        [-0.0759,  0.0690]], grad_fn=<MmBackward0>)"
      ]
     },
     "execution_count": 41,
     "metadata": {},
     "output_type": "execute_result"
    }
   ],
   "source": [
    "torch.manual_seed(789)\n",
    "sa=Self_Attention_v2(d_in,d_out)\n",
    "sa(inputs)"
   ]
  },
  {
   "cell_type": "code",
   "execution_count": null,
   "id": "06a2698f",
   "metadata": {},
   "outputs": [],
   "source": []
  }
 ],
 "metadata": {
  "kernelspec": {
   "display_name": "Python 3 (ipykernel)",
   "language": "python",
   "name": "python3"
  },
  "language_info": {
   "codemirror_mode": {
    "name": "ipython",
    "version": 3
   },
   "file_extension": ".py",
   "mimetype": "text/x-python",
   "name": "python",
   "nbconvert_exporter": "python",
   "pygments_lexer": "ipython3",
   "version": "3.11.5"
  }
 },
 "nbformat": 4,
 "nbformat_minor": 5
}
