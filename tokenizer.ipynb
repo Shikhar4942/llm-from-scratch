{
 "cells": [
  {
   "cell_type": "code",
   "execution_count": 1,
   "id": "4ca639ab",
   "metadata": {},
   "outputs": [],
   "source": [
    "import re"
   ]
  },
  {
   "cell_type": "code",
   "execution_count": 30,
   "id": "5b934778",
   "metadata": {},
   "outputs": [
    {
     "name": "stdout",
     "output_type": "stream",
     "text": [
      "['hello,', ' ', 'this', ' ', 'is:shikhar', ' ', 'goel.']\n"
     ]
    }
   ],
   "source": [
    "text=\"hello, this is:shikhar goel.\"\n",
    "result=re.split(r'(\\s)',text)\n",
    "print(result)"
   ]
  },
  {
   "cell_type": "code",
   "execution_count": 40,
   "id": "2ebe46ac",
   "metadata": {},
   "outputs": [
    {
     "data": {
      "text/plain": [
       "10"
      ]
     },
     "execution_count": 40,
     "metadata": {},
     "output_type": "execute_result"
    }
   ],
   "source": [
    "result=re.split(r'[,.]|:|(\\s)',text)\n",
    "result = [i for i in result if i is not None]\n",
    "len(result)"
   ]
  },
  {
   "cell_type": "code",
   "execution_count": 122,
   "id": "c940c3d8",
   "metadata": {},
   "outputs": [
    {
     "name": "stdout",
     "output_type": "stream",
     "text": [
      "['Shikhar', 'Goel', 'Prayagraj', 'India', '211001', '7307087156', 'gsg6156@gmail', 'com', 'Professional', 'Summary', 'Hardworking', 'Student', 'offering', 'part-time', 'work', 'experience', 'and', 'extensive', 'knowledge', 'of', 'core', 'subject', 'matter', 'Meticulous', 'and', 'detail-oriented', 'with', 'good', 'observational', 'organizational', 'skills', 'Skills', 'Programming', 'language', 'c', 'c++', 'python', 'Fluent', 'Data', 'structures', 'and', 'Algorithms', 'Competent', 'Machine', 'learning', 'frameworks', 'like', 'tensorflow', 'Competent', 'tools', 'scikit', 'learn', 'and', 'other', 'libraries', 'Fluent', 'Docker', 'Competent', 'Linux', 'shell', 'scripting', 'Fluent', 'Basic', 'Electronics', 'Fluent', 'Professional', 'Experience', 'No', 'Professional', 'Experience', 'Education', 'Expected', 'in', 'May', '2027', 'National', 'Institute', 'of', 'Technology', 'Tiruchirappalli', 'Tiruchi', 'India', 'Btech', 'Electronics', 'And', 'Communication', 'Engineering', '8', '58', 'GPA/CGPA', 'at', 'end', 'of', '2nd', 'semester', 'Vishnu', 'Bhagwan', 'Public', 'School', 'Prayagraj', 'India', 'Class', '12th', 'Final', 'Grade', '94%', 'Projects', '1', 'Worked', 'on', 'micro', 'Doppler', 'Classification', 'of', 'Uav', 'birds', 'and', 'ornithopters', 'SIH', '2024', '*got', 'experience', 'of', 'signal', 'processing', 'and', 'learnt', 'about', 'noise', 'removal', 'techniques', 'in', 'signals', '*used', 'auto', 'encoder', 'based', 'technique', 'to', 'differentiate', 'b/w', 'the', 'signal', 'of', 'the', 'classes', '2', 'Participated', 'in', 'Bhartiya', 'Antariksh', 'Hackathon', 'ISRO', '2024', 'Worked', 'on', 'object', 'Classification', 'from', 'high', 'resolution', 'satellite', 'images', '*used', 'tools', 'like', 'QGIS', 'for', 'geological', 'data', 'collection', 'sampling', 'and', 'annotations', '3', 'LEETCODE', '75', 'PROBLEMS', '4', 'Participated', 'in', 'Metal', 'Defect', 'Prediction', 'competition', 'hosted', 'on', 'kaggle', 'ranked', '577', 'among', '3000', 'internationally', '5', 'Worked', 'on', 'footstep', 'power', 'generation', 'tiles', 'using', 'peizoelectric', 'sensors']\n",
      "203\n"
     ]
    }
   ],
   "source": [
    "result=[item for item in result if item.strip()]\n",
    "print(result)\n",
    "print(len(result))"
   ]
  },
  {
   "cell_type": "code",
   "execution_count": 123,
   "id": "c91c38ca",
   "metadata": {},
   "outputs": [
    {
     "data": {
      "text/plain": [
       "'Shikhar Goel\\n\\nPrayagraj, India 211001\\n7307087156\\ngsg6156@gmail.com\\n\\nProfessional Summary\\n\\nHardworking Student offering part-time work experience and extensive knowledge of core subject matter. Meticulous and detail-oriented with good observational, organizational skills.\\n\\nSkills\\n\\nProgramming language : c,c++,python\\n\\nFluent\\n\\nData structures and Algorithms\\n\\nCompetent\\n\\nMachine learning frameworks like tensorflow\\n\\nCompetent\\n\\ntools:scikit learn and other libraries\\n\\nFluent\\n\\nDocker\\n\\nCompetent\\n\\nLinux shell scripting\\n\\nFluent\\n\\nBasic Electronics\\n\\nFluent\\n\\nProfessional Experience\\n\\nNo Professional Experience\\n\\nEducation\\n\\nExpected in May 2027\\nNational Institute of Technology, Tiruchirappalli Tiruchi, India\\nBtech Electronics And Communication Engineering\\n\\n8.58 GPA/CGPA at end of 2nd semester\\n\\nVishnu Bhagwan Public School Prayagraj, India\\nClass 12th\\n\\nFinal Grade: 94%\\n\\nProjects\\n\\n1)Worked on micro Doppler Classification of Uav,birds and ornithopters(SIH 2024)\\n\\xa0*got experience of signal processing and learnt about noise removal techniques in signals\\n*used auto encoder based technique to differentiate b/w the signal of the classes\\n\\n2)Participated in Bhartiya Antariksh Hackathon(ISRO) 2024 :Worked on object Classification from high resolution satellite images\\n*used tools like QGIS for geological data collection , sampling and annotations\\n\\n3)LEETCODE(75 PROBLEMS)\\n\\n4)Participated in Metal Defect Prediction competition hosted on kaggle (ranked 577 among 3000 internationally)\\n\\n5)Worked on footstep power generation tiles using peizoelectric sensors.'"
      ]
     },
     "execution_count": 123,
     "metadata": {},
     "output_type": "execute_result"
    }
   ],
   "source": [
    "with open(\"Shikhar_Goel_Resume.txt\" ,'r', encoding=\"utf-8\") as f:\n",
    "    raw_text=f.read()\n",
    "len(raw_text)\n",
    "raw_text[:3000]"
   ]
  },
  {
   "cell_type": "code",
   "execution_count": 124,
   "id": "c3625880",
   "metadata": {},
   "outputs": [
    {
     "name": "stdout",
     "output_type": "stream",
     "text": [
      "['Shikhar', ' ', 'Goel', '\\n', '', '\\n', 'Prayagraj,', ' ', 'India', ' ', '211001', '\\n', '7307087156', '\\n', 'gsg6156@gmail.com', '\\n', '', '\\n', 'Professional', ' ', 'Summary', '\\n', '', '\\n', 'Hardworking', ' ', 'Student', ' ', 'offering', ' ', 'part-time', ' ', 'work', ' ', 'experience', ' ', 'and', ' ', 'extensive', ' ', 'knowledge', ' ', 'of', ' ', 'core', ' ', 'subject', ' ', 'matter.', ' ', 'Meticulous', ' ', 'and', ' ', 'detail-oriented', ' ', 'with', ' ', 'good', ' ', 'observational,', ' ', 'organizational', ' ', 'skills.', '\\n', '', '\\n', 'Skills', '\\n', '', '\\n', 'Programming', ' ', 'language', ' ', ':', ' ', 'c,c++,python', '\\n', '', '\\n', 'Fluent', '\\n', '', '\\n', 'Data', ' ', 'structures', ' ', 'and', ' ', 'Algorithms', '\\n', '', '\\n', 'Competent', '\\n', '', '\\n', 'Machine', ' ', 'learning', ' ', 'frameworks', ' ', 'like', ' ', 'tensorflow', '\\n', '', '\\n', 'Competent', '\\n', '', '\\n', 'tools:scikit', ' ', 'learn', ' ', 'and', ' ', 'other', ' ', 'libraries', '\\n', '', '\\n', 'Fluent', '\\n', '', '\\n', 'Docker', '\\n', '', '\\n', 'Competent', '\\n', '', '\\n', 'Linux', ' ', 'shell', ' ', 'scripting', '\\n', '', '\\n', 'Fluent', '\\n', '', '\\n', 'Basic', ' ', 'Electronics', '\\n', '', '\\n', 'Fluent', '\\n', '', '\\n', 'Professional', ' ', 'Experience', '\\n', '', '\\n', 'No', ' ', 'Professional', ' ', 'Experience', '\\n', '', '\\n', 'Education', '\\n', '', '\\n', 'Expected', ' ', 'in', ' ', 'May', ' ', '2027', '\\n', 'National', ' ', 'Institute', ' ', 'of', ' ', 'Technology,', ' ', 'Tiruchirappalli', ' ', 'Tiruchi,', ' ', 'India', '\\n', 'Btech', ' ', 'Electronics', ' ', 'And', ' ', 'Communication', ' ', 'Engineering', '\\n', '', '\\n', '8.58', ' ', 'GPA/CGPA', ' ', 'at', ' ', 'end', ' ', 'of', ' ', '2nd', ' ', 'semester', '\\n', '', '\\n', 'Vishnu', ' ', 'Bhagwan', ' ', 'Public', ' ', 'School', ' ', 'Prayagraj,', ' ', 'India', '\\n', 'Class', ' ', '12th', '\\n', '', '\\n', 'Final', ' ', 'Grade:', ' ', '94%', '\\n', '', '\\n', 'Projects', '\\n', '', '\\n', '1)Worked', ' ', 'on', ' ', 'micro', ' ', 'Doppler', ' ', 'Classification', ' ', 'of', ' ', 'Uav,birds', ' ', 'and', ' ', 'ornithopters(SIH', ' ', '2024)', '\\n', '', '\\xa0', '*got', ' ', 'experience', ' ', 'of', ' ', 'signal', ' ', 'processing', ' ', 'and', ' ', 'learnt', ' ', 'about', ' ', 'noise', ' ', 'removal', ' ', 'techniques', ' ', 'in', ' ', 'signals', '\\n', '*used', ' ', 'auto', ' ', 'encoder', ' ', 'based', ' ', 'technique', ' ', 'to', ' ', 'differentiate', ' ', 'b/w', ' ', 'the', ' ', 'signal', ' ', 'of', ' ', 'the', ' ', 'classes', '\\n', '', '\\n', '2)Participated', ' ', 'in', ' ', 'Bhartiya', ' ', 'Antariksh', ' ', 'Hackathon(ISRO)', ' ', '2024', ' ', ':Worked', ' ', 'on', ' ', 'object', ' ', 'Classification', ' ', 'from', ' ', 'high', ' ', 'resolution', ' ', 'satellite', ' ', 'images', '\\n', '*used', ' ', 'tools', ' ', 'like', ' ', 'QGIS', ' ', 'for', ' ', 'geological', ' ', 'data', ' ', 'collection', ' ', ',', ' ', 'sampling', ' ', 'and', ' ', 'annotations', '\\n', '', '\\n', '3)LEETCODE(75', ' ', 'PROBLEMS)', '\\n', '', '\\n', '4)Participated', ' ', 'in', ' ', 'Metal', ' ', 'Defect', ' ', 'Prediction', ' ', 'competition', ' ', 'hosted', ' ', 'on', ' ', 'kaggle', ' ', '(ranked', ' ', '577', ' ', 'among', ' ', '3000', ' ', 'internationally)', '\\n', '', '\\n', '5)Worked', ' ', 'on', ' ', 'footstep', ' ', 'power', ' ', 'generation', ' ', 'tiles', ' ', 'using', ' ', 'peizoelectric', ' ', 'sensors.']\n"
     ]
    }
   ],
   "source": [
    "result=re.split(r'(\\s)',raw_text)\n",
    "print(result)"
   ]
  },
  {
   "cell_type": "code",
   "execution_count": 125,
   "id": "98c62607",
   "metadata": {},
   "outputs": [
    {
     "data": {
      "text/plain": [
       "['Shikhar',\n",
       " 'Goel',\n",
       " 'Prayagraj',\n",
       " 'India',\n",
       " '211001',\n",
       " '7307087156',\n",
       " 'gsg6156@gmail',\n",
       " 'com',\n",
       " 'Professional',\n",
       " 'Summary',\n",
       " 'Hardworking',\n",
       " 'Student',\n",
       " 'offering',\n",
       " 'part-time',\n",
       " 'work',\n",
       " 'experience',\n",
       " 'and',\n",
       " 'extensive',\n",
       " 'knowledge',\n",
       " 'of',\n",
       " 'core',\n",
       " 'subject',\n",
       " 'matter',\n",
       " 'Meticulous',\n",
       " 'and',\n",
       " 'detail-oriented',\n",
       " 'with',\n",
       " 'good',\n",
       " 'observational',\n",
       " 'organizational',\n",
       " 'skills',\n",
       " 'Skills',\n",
       " 'Programming',\n",
       " 'language',\n",
       " 'c',\n",
       " 'c++',\n",
       " 'python',\n",
       " 'Fluent',\n",
       " 'Data',\n",
       " 'structures',\n",
       " 'and',\n",
       " 'Algorithms',\n",
       " 'Competent',\n",
       " 'Machine',\n",
       " 'learning',\n",
       " 'frameworks',\n",
       " 'like',\n",
       " 'tensorflow',\n",
       " 'Competent',\n",
       " 'tools',\n",
       " 'scikit',\n",
       " 'learn',\n",
       " 'and',\n",
       " 'other',\n",
       " 'libraries',\n",
       " 'Fluent',\n",
       " 'Docker',\n",
       " 'Competent',\n",
       " 'Linux',\n",
       " 'shell',\n",
       " 'scripting',\n",
       " 'Fluent',\n",
       " 'Basic',\n",
       " 'Electronics',\n",
       " 'Fluent',\n",
       " 'Professional',\n",
       " 'Experience',\n",
       " 'No',\n",
       " 'Professional',\n",
       " 'Experience',\n",
       " 'Education',\n",
       " 'Expected',\n",
       " 'in',\n",
       " 'May',\n",
       " '2027',\n",
       " 'National',\n",
       " 'Institute',\n",
       " 'of',\n",
       " 'Technology',\n",
       " 'Tiruchirappalli',\n",
       " 'Tiruchi',\n",
       " 'India',\n",
       " 'Btech',\n",
       " 'Electronics',\n",
       " 'And',\n",
       " 'Communication',\n",
       " 'Engineering',\n",
       " '8',\n",
       " '58',\n",
       " 'GPA/CGPA',\n",
       " 'at',\n",
       " 'end',\n",
       " 'of',\n",
       " '2nd',\n",
       " 'semester',\n",
       " 'Vishnu',\n",
       " 'Bhagwan',\n",
       " 'Public',\n",
       " 'School',\n",
       " 'Prayagraj',\n",
       " 'India',\n",
       " 'Class',\n",
       " '12th',\n",
       " 'Final',\n",
       " 'Grade',\n",
       " '94%',\n",
       " 'Projects',\n",
       " '1',\n",
       " 'Worked',\n",
       " 'on',\n",
       " 'micro',\n",
       " 'Doppler',\n",
       " 'Classification',\n",
       " 'of',\n",
       " 'Uav',\n",
       " 'birds',\n",
       " 'and',\n",
       " 'ornithopters',\n",
       " 'SIH',\n",
       " '2024',\n",
       " '*got',\n",
       " 'experience',\n",
       " 'of',\n",
       " 'signal',\n",
       " 'processing',\n",
       " 'and',\n",
       " 'learnt',\n",
       " 'about',\n",
       " 'noise',\n",
       " 'removal',\n",
       " 'techniques',\n",
       " 'in',\n",
       " 'signals',\n",
       " '*used',\n",
       " 'auto',\n",
       " 'encoder',\n",
       " 'based',\n",
       " 'technique',\n",
       " 'to',\n",
       " 'differentiate',\n",
       " 'b/w',\n",
       " 'the',\n",
       " 'signal',\n",
       " 'of',\n",
       " 'the',\n",
       " 'classes',\n",
       " '2',\n",
       " 'Participated',\n",
       " 'in',\n",
       " 'Bhartiya',\n",
       " 'Antariksh',\n",
       " 'Hackathon',\n",
       " 'ISRO',\n",
       " '2024',\n",
       " 'Worked',\n",
       " 'on',\n",
       " 'object',\n",
       " 'Classification',\n",
       " 'from',\n",
       " 'high',\n",
       " 'resolution',\n",
       " 'satellite',\n",
       " 'images',\n",
       " '*used',\n",
       " 'tools',\n",
       " 'like',\n",
       " 'QGIS',\n",
       " 'for',\n",
       " 'geological',\n",
       " 'data',\n",
       " 'collection',\n",
       " 'sampling',\n",
       " 'and',\n",
       " 'annotations',\n",
       " '3',\n",
       " 'LEETCODE',\n",
       " '75',\n",
       " 'PROBLEMS',\n",
       " '4',\n",
       " 'Participated',\n",
       " 'in',\n",
       " 'Metal',\n",
       " 'Defect',\n",
       " 'Prediction',\n",
       " 'competition',\n",
       " 'hosted',\n",
       " 'on',\n",
       " 'kaggle',\n",
       " 'ranked',\n",
       " '577',\n",
       " 'among',\n",
       " '3000',\n",
       " 'internationally',\n",
       " '5',\n",
       " 'Worked',\n",
       " 'on',\n",
       " 'footstep',\n",
       " 'power',\n",
       " 'generation',\n",
       " 'tiles',\n",
       " 'using',\n",
       " 'peizoelectric',\n",
       " 'sensors']"
      ]
     },
     "execution_count": 125,
     "metadata": {},
     "output_type": "execute_result"
    }
   ],
   "source": [
    "result=re.split(r'[,.=''()]|:|[\\n]|(\\s)',raw_text)\n",
    "result = [i for i in result if i is not None]\n",
    "result =[item for item in result if item.strip()]\n",
    "result"
   ]
  },
  {
   "cell_type": "code",
   "execution_count": 126,
   "id": "0f7c91d3",
   "metadata": {},
   "outputs": [],
   "source": [
    "all_words=sorted(set(result))"
   ]
  },
  {
   "cell_type": "code",
   "execution_count": 127,
   "id": "1973dae4",
   "metadata": {},
   "outputs": [
    {
     "data": {
      "text/plain": [
       "['*got',\n",
       " '*used',\n",
       " '1',\n",
       " '12th',\n",
       " '2',\n",
       " '2024',\n",
       " '2027',\n",
       " '211001',\n",
       " '2nd',\n",
       " '3',\n",
       " '3000',\n",
       " '4',\n",
       " '5',\n",
       " '577',\n",
       " '58',\n",
       " '7307087156',\n",
       " '75',\n",
       " '8',\n",
       " '94%',\n",
       " 'Algorithms',\n",
       " 'And',\n",
       " 'Antariksh',\n",
       " 'Basic',\n",
       " 'Bhagwan',\n",
       " 'Bhartiya',\n",
       " 'Btech',\n",
       " 'Class',\n",
       " 'Classification',\n",
       " 'Communication',\n",
       " 'Competent',\n",
       " 'Data',\n",
       " 'Defect',\n",
       " 'Docker',\n",
       " 'Doppler',\n",
       " 'Education',\n",
       " 'Electronics',\n",
       " 'Engineering',\n",
       " 'Expected',\n",
       " 'Experience',\n",
       " 'Final',\n",
       " 'Fluent',\n",
       " 'GPA/CGPA',\n",
       " 'Goel',\n",
       " 'Grade',\n",
       " 'Hackathon',\n",
       " 'Hardworking',\n",
       " 'ISRO',\n",
       " 'India',\n",
       " 'Institute',\n",
       " 'LEETCODE',\n",
       " 'Linux',\n",
       " 'Machine',\n",
       " 'May',\n",
       " 'Metal',\n",
       " 'Meticulous',\n",
       " 'National',\n",
       " 'No',\n",
       " 'PROBLEMS',\n",
       " 'Participated',\n",
       " 'Prayagraj',\n",
       " 'Prediction',\n",
       " 'Professional',\n",
       " 'Programming',\n",
       " 'Projects',\n",
       " 'Public',\n",
       " 'QGIS',\n",
       " 'SIH',\n",
       " 'School',\n",
       " 'Shikhar',\n",
       " 'Skills',\n",
       " 'Student',\n",
       " 'Summary',\n",
       " 'Technology',\n",
       " 'Tiruchi',\n",
       " 'Tiruchirappalli',\n",
       " 'Uav',\n",
       " 'Vishnu',\n",
       " 'Worked',\n",
       " 'about',\n",
       " 'among',\n",
       " 'and',\n",
       " 'annotations',\n",
       " 'at',\n",
       " 'auto',\n",
       " 'b/w',\n",
       " 'based',\n",
       " 'birds',\n",
       " 'c',\n",
       " 'c++',\n",
       " 'classes',\n",
       " 'collection',\n",
       " 'com',\n",
       " 'competition',\n",
       " 'core',\n",
       " 'data',\n",
       " 'detail-oriented',\n",
       " 'differentiate',\n",
       " 'encoder',\n",
       " 'end',\n",
       " 'experience',\n",
       " 'extensive',\n",
       " 'footstep',\n",
       " 'for',\n",
       " 'frameworks',\n",
       " 'from',\n",
       " 'generation',\n",
       " 'geological',\n",
       " 'good',\n",
       " 'gsg6156@gmail',\n",
       " 'high',\n",
       " 'hosted',\n",
       " 'images',\n",
       " 'in',\n",
       " 'internationally',\n",
       " 'kaggle',\n",
       " 'knowledge',\n",
       " 'language',\n",
       " 'learn',\n",
       " 'learning',\n",
       " 'learnt',\n",
       " 'libraries',\n",
       " 'like',\n",
       " 'matter',\n",
       " 'micro',\n",
       " 'noise',\n",
       " 'object',\n",
       " 'observational',\n",
       " 'of',\n",
       " 'offering',\n",
       " 'on',\n",
       " 'organizational',\n",
       " 'ornithopters',\n",
       " 'other',\n",
       " 'part-time',\n",
       " 'peizoelectric',\n",
       " 'power',\n",
       " 'processing',\n",
       " 'python',\n",
       " 'ranked',\n",
       " 'removal',\n",
       " 'resolution',\n",
       " 'sampling',\n",
       " 'satellite',\n",
       " 'scikit',\n",
       " 'scripting',\n",
       " 'semester',\n",
       " 'sensors',\n",
       " 'shell',\n",
       " 'signal',\n",
       " 'signals',\n",
       " 'skills',\n",
       " 'structures',\n",
       " 'subject',\n",
       " 'technique',\n",
       " 'techniques',\n",
       " 'tensorflow',\n",
       " 'the',\n",
       " 'tiles',\n",
       " 'to',\n",
       " 'tools',\n",
       " 'using',\n",
       " 'with',\n",
       " 'work']"
      ]
     },
     "execution_count": 127,
     "metadata": {},
     "output_type": "execute_result"
    }
   ],
   "source": [
    "all_words"
   ]
  },
  {
   "cell_type": "code",
   "execution_count": 128,
   "id": "89c766e5",
   "metadata": {},
   "outputs": [],
   "source": [
    "vocab={token:id for id,token in enumerate(all_words)}"
   ]
  },
  {
   "cell_type": "code",
   "execution_count": 129,
   "id": "791a28e5",
   "metadata": {},
   "outputs": [
    {
     "data": {
      "text/plain": [
       "163"
      ]
     },
     "execution_count": 129,
     "metadata": {},
     "output_type": "execute_result"
    }
   ],
   "source": [
    "vocab\n",
    "len(vocab)"
   ]
  },
  {
   "cell_type": "code",
   "execution_count": 137,
   "id": "88bce704",
   "metadata": {},
   "outputs": [],
   "source": [
    "class Simpletokenizer:\n",
    "    def __init__(self,vocab):\n",
    "        self.str_to_int =vocab\n",
    "        self.int_to_str ={i:s for s,i in vocab.items()}\n",
    "        \n",
    "    def encoder_(self,raw_text):\n",
    "        result=re.split(r'[,.='']|:|[\\n]|(\\s)',raw_text)\n",
    "        result = [i for i in result if i is not None]\n",
    "        result =[item for item in result if item.strip()]\n",
    "        result=[item if item in self.str_to_int else \"<|unk|>\" for item in result]\n",
    "        ids=[self.str_to_int[s] for s in result]\n",
    "        return ids\n",
    "    \n",
    "    def decoder_(self,ids):\n",
    "        text=\" \".join([self.int_to_str[i] for i in ids])\n",
    "      \n",
    "        return text\n",
    "        "
   ]
  },
  {
   "cell_type": "code",
   "execution_count": 150,
   "id": "33eba949",
   "metadata": {},
   "outputs": [
    {
     "data": {
      "text/plain": [
       "[68, 42, 138, 168]"
      ]
     },
     "execution_count": 150,
     "metadata": {},
     "output_type": "execute_result"
    }
   ],
   "source": [
    "tokenizer=Simpletokenizer(vocab)\n",
    "text=\"Shikhar Goel ranked 286\"\n",
    "ids=tokenizer.encoder_(text)\n",
    "ids"
   ]
  },
  {
   "cell_type": "code",
   "execution_count": 139,
   "id": "9a5bd057",
   "metadata": {},
   "outputs": [
    {
     "data": {
      "text/plain": [
       "'Shikhar Goel ranked <|unk|>'"
      ]
     },
     "execution_count": 139,
     "metadata": {},
     "output_type": "execute_result"
    }
   ],
   "source": [
    "text=tokenizer.decoder_(ids)\n",
    "text"
   ]
  },
  {
   "cell_type": "code",
   "execution_count": 146,
   "id": "d42c2ab4",
   "metadata": {},
   "outputs": [],
   "source": [
    "all_words.extend([\"<|endoftext|>\",\"<|unk|>\"])\n",
    "vocab={token:id for id,token in enumerate(all_words)}"
   ]
  },
  {
   "cell_type": "code",
   "execution_count": 147,
   "id": "fb87077d",
   "metadata": {},
   "outputs": [
    {
     "data": {
      "text/plain": [
       "{'*got': 0,\n",
       " '*used': 1,\n",
       " '1': 2,\n",
       " '12th': 3,\n",
       " '2': 4,\n",
       " '2024': 5,\n",
       " '2027': 6,\n",
       " '211001': 7,\n",
       " '2nd': 8,\n",
       " '3': 9,\n",
       " '3000': 10,\n",
       " '4': 11,\n",
       " '5': 12,\n",
       " '577': 13,\n",
       " '58': 14,\n",
       " '7307087156': 15,\n",
       " '75': 16,\n",
       " '8': 17,\n",
       " '94%': 18,\n",
       " 'Algorithms': 19,\n",
       " 'And': 20,\n",
       " 'Antariksh': 21,\n",
       " 'Basic': 22,\n",
       " 'Bhagwan': 23,\n",
       " 'Bhartiya': 24,\n",
       " 'Btech': 25,\n",
       " 'Class': 26,\n",
       " 'Classification': 27,\n",
       " 'Communication': 28,\n",
       " 'Competent': 29,\n",
       " 'Data': 30,\n",
       " 'Defect': 31,\n",
       " 'Docker': 32,\n",
       " 'Doppler': 33,\n",
       " 'Education': 34,\n",
       " 'Electronics': 35,\n",
       " 'Engineering': 36,\n",
       " 'Expected': 37,\n",
       " 'Experience': 38,\n",
       " 'Final': 39,\n",
       " 'Fluent': 40,\n",
       " 'GPA/CGPA': 41,\n",
       " 'Goel': 42,\n",
       " 'Grade': 43,\n",
       " 'Hackathon': 44,\n",
       " 'Hardworking': 45,\n",
       " 'ISRO': 46,\n",
       " 'India': 47,\n",
       " 'Institute': 48,\n",
       " 'LEETCODE': 49,\n",
       " 'Linux': 50,\n",
       " 'Machine': 51,\n",
       " 'May': 52,\n",
       " 'Metal': 53,\n",
       " 'Meticulous': 54,\n",
       " 'National': 55,\n",
       " 'No': 56,\n",
       " 'PROBLEMS': 57,\n",
       " 'Participated': 58,\n",
       " 'Prayagraj': 59,\n",
       " 'Prediction': 60,\n",
       " 'Professional': 61,\n",
       " 'Programming': 62,\n",
       " 'Projects': 63,\n",
       " 'Public': 64,\n",
       " 'QGIS': 65,\n",
       " 'SIH': 66,\n",
       " 'School': 67,\n",
       " 'Shikhar': 68,\n",
       " 'Skills': 69,\n",
       " 'Student': 70,\n",
       " 'Summary': 71,\n",
       " 'Technology': 72,\n",
       " 'Tiruchi': 73,\n",
       " 'Tiruchirappalli': 74,\n",
       " 'Uav': 75,\n",
       " 'Vishnu': 76,\n",
       " 'Worked': 77,\n",
       " 'about': 78,\n",
       " 'among': 79,\n",
       " 'and': 80,\n",
       " 'annotations': 81,\n",
       " 'at': 82,\n",
       " 'auto': 83,\n",
       " 'b/w': 84,\n",
       " 'based': 85,\n",
       " 'birds': 86,\n",
       " 'c': 87,\n",
       " 'c++': 88,\n",
       " 'classes': 89,\n",
       " 'collection': 90,\n",
       " 'com': 91,\n",
       " 'competition': 92,\n",
       " 'core': 93,\n",
       " 'data': 94,\n",
       " 'detail-oriented': 95,\n",
       " 'differentiate': 96,\n",
       " 'encoder': 97,\n",
       " 'end': 98,\n",
       " 'experience': 99,\n",
       " 'extensive': 100,\n",
       " 'footstep': 101,\n",
       " 'for': 102,\n",
       " 'frameworks': 103,\n",
       " 'from': 104,\n",
       " 'generation': 105,\n",
       " 'geological': 106,\n",
       " 'good': 107,\n",
       " 'gsg6156@gmail': 108,\n",
       " 'high': 109,\n",
       " 'hosted': 110,\n",
       " 'images': 111,\n",
       " 'in': 112,\n",
       " 'internationally': 113,\n",
       " 'kaggle': 114,\n",
       " 'knowledge': 115,\n",
       " 'language': 116,\n",
       " 'learn': 117,\n",
       " 'learning': 118,\n",
       " 'learnt': 119,\n",
       " 'libraries': 120,\n",
       " 'like': 121,\n",
       " 'matter': 122,\n",
       " 'micro': 123,\n",
       " 'noise': 124,\n",
       " 'object': 125,\n",
       " 'observational': 126,\n",
       " 'of': 127,\n",
       " 'offering': 128,\n",
       " 'on': 129,\n",
       " 'organizational': 130,\n",
       " 'ornithopters': 131,\n",
       " 'other': 132,\n",
       " 'part-time': 133,\n",
       " 'peizoelectric': 134,\n",
       " 'power': 135,\n",
       " 'processing': 136,\n",
       " 'python': 137,\n",
       " 'ranked': 138,\n",
       " 'removal': 139,\n",
       " 'resolution': 140,\n",
       " 'sampling': 141,\n",
       " 'satellite': 142,\n",
       " 'scikit': 143,\n",
       " 'scripting': 144,\n",
       " 'semester': 145,\n",
       " 'sensors': 146,\n",
       " 'shell': 147,\n",
       " 'signal': 148,\n",
       " 'signals': 149,\n",
       " 'skills': 150,\n",
       " 'structures': 151,\n",
       " 'subject': 152,\n",
       " 'technique': 153,\n",
       " 'techniques': 154,\n",
       " 'tensorflow': 155,\n",
       " 'the': 156,\n",
       " 'tiles': 157,\n",
       " 'to': 158,\n",
       " 'tools': 159,\n",
       " 'using': 160,\n",
       " 'with': 161,\n",
       " 'work': 162,\n",
       " '<|endoftext|>': 167,\n",
       " '<|unk|>': 168}"
      ]
     },
     "execution_count": 147,
     "metadata": {},
     "output_type": "execute_result"
    }
   ],
   "source": [
    "vocab"
   ]
  },
  {
   "cell_type": "code",
   "execution_count": 155,
   "id": "b6c8d660",
   "metadata": {},
   "outputs": [
    {
     "data": {
      "text/plain": [
       "'hello Shikhar Goel,are you ready <|endoftext|> for bgt.'"
      ]
     },
     "execution_count": 155,
     "metadata": {},
     "output_type": "execute_result"
    }
   ],
   "source": [
    "text1=\"hello Shikhar Goel,are you ready\"\n",
    "text2=\"for bgt.\"\n",
    "text_=\" <|endoftext|> \".join([text1,text2])\n",
    "text_"
   ]
  },
  {
   "cell_type": "code",
   "execution_count": 156,
   "id": "947104c1",
   "metadata": {},
   "outputs": [
    {
     "data": {
      "text/plain": [
       "[168, 68, 42, 168, 168, 168, 167, 102, 168]"
      ]
     },
     "execution_count": 156,
     "metadata": {},
     "output_type": "execute_result"
    }
   ],
   "source": [
    "ids_=tokenizer.encoder_(text_)\n",
    "ids_"
   ]
  },
  {
   "cell_type": "code",
   "execution_count": 157,
   "id": "7f962487",
   "metadata": {},
   "outputs": [],
   "source": [
    "text_decoded=tokenizer.decoder_(ids_)"
   ]
  },
  {
   "cell_type": "code",
   "execution_count": 158,
   "id": "a9ba46af",
   "metadata": {},
   "outputs": [
    {
     "data": {
      "text/plain": [
       "'<|unk|> Shikhar Goel <|unk|> <|unk|> <|unk|> <|endoftext|> for <|unk|>'"
      ]
     },
     "execution_count": 158,
     "metadata": {},
     "output_type": "execute_result"
    }
   ],
   "source": [
    "text_decoded"
   ]
  },
  {
   "cell_type": "code",
   "execution_count": null,
   "id": "3bf48762",
   "metadata": {},
   "outputs": [],
   "source": []
  }
 ],
 "metadata": {
  "kernelspec": {
   "display_name": "Python 3 (ipykernel)",
   "language": "python",
   "name": "python3"
  },
  "language_info": {
   "codemirror_mode": {
    "name": "ipython",
    "version": 3
   },
   "file_extension": ".py",
   "mimetype": "text/x-python",
   "name": "python",
   "nbconvert_exporter": "python",
   "pygments_lexer": "ipython3",
   "version": "3.11.5"
  }
 },
 "nbformat": 4,
 "nbformat_minor": 5
}
