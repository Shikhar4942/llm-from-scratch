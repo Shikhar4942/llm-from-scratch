{
 "cells": [
  {
   "cell_type": "code",
   "execution_count": 1,
   "id": "862c72e3",
   "metadata": {},
   "outputs": [],
   "source": [
    "import torch\n",
    "vocab_size=50257\n",
    "output_dim=256\n",
    "token_embedding_layer=torch.nn.Embedding(vocab_size,output_dim)"
   ]
  },
  {
   "cell_type": "code",
   "execution_count": 2,
   "id": "8d63778f",
   "metadata": {},
   "outputs": [],
   "source": [
    "from torch.utils.data import Dataset,DataLoader\n",
    "class GPTdataset(Dataset):\n",
    "    def __init__(self,txt,tokenizer,max_length,stride):\n",
    "        self.input_ids=[]\n",
    "        self.target_ids=[]\n",
    "        \n",
    "        ids=tokenizer.encode(txt,allowed_special={\"<|endoftext|>\"})\n",
    "        \n",
    "        for i in range(0,len(ids)-max_length,stride):\n",
    "            input_chunk=ids[i:i+max_length]\n",
    "            target_chunk=ids[i+1:i+max_length+1]\n",
    "            self.input_ids.append(torch.tensor(input_chunk))\n",
    "            self.target_ids.append(torch.tensor(target_chunk))\n",
    "            \n",
    "    def __len__(self):\n",
    "        return len(self.input_ids)\n",
    "    def __getitem__(self,idx):\n",
    "        return self.input_ids[idx],self.target_ids[idx]\n",
    "        "
   ]
  },
  {
   "cell_type": "code",
   "execution_count": 3,
   "id": "c56bb0ed",
   "metadata": {},
   "outputs": [],
   "source": [
    "def gpt_data_loader(txt, batch_size=4, max_length=256, stride=128, shuffle=True, drop_last=True, num_workers=0):\n",
    "   \n",
    "    tokenizer = tiktoken.get_encoding(\"gpt2\")\n",
    "    \n",
    "\n",
    "    dataset = GPTdataset(txt, tokenizer, max_length, stride)\n",
    "    \n",
    "   \n",
    "    data_loader = DataLoader(\n",
    "        dataset,\n",
    "        batch_size=batch_size,\n",
    "        shuffle=shuffle,\n",
    "        drop_last=drop_last,\n",
    "        num_workers=num_workers\n",
    "    )\n",
    "    return data_loader\n",
    "    "
   ]
  },
  {
   "cell_type": "code",
   "execution_count": 4,
   "id": "c1235f26",
   "metadata": {},
   "outputs": [],
   "source": [
    "import importlib\n",
    "import tiktoken\n"
   ]
  },
  {
   "cell_type": "code",
   "execution_count": 5,
   "id": "c47c077d",
   "metadata": {},
   "outputs": [],
   "source": [
    "tokenizer=tiktoken.get_encoding(\"gpt2\")"
   ]
  },
  {
   "cell_type": "code",
   "execution_count": 6,
   "id": "31c1642d",
   "metadata": {},
   "outputs": [
    {
     "name": "stdout",
     "output_type": "stream",
     "text": [
      "1547\n"
     ]
    }
   ],
   "source": [
    "with open(\"Shikhar_Goel_Resume.txt\",\"r\",encoding=\"utf-8\") as f:\n",
    "    raw_text=f.read()\n",
    "encoded_text=tokenizer.encode(raw_text)\n",
    "print(len(raw_text))"
   ]
  },
  {
   "cell_type": "code",
   "execution_count": 9,
   "id": "51ac05e5",
   "metadata": {},
   "outputs": [],
   "source": [
    "import torch\n",
    "data_loader=gpt_data_loader(raw_text,batch_size=8,max_length=4,stride=4,shuffle=False)\n",
    "data_iter=iter(data_loader)\n",
    "inputs,target=next(data_iter)"
   ]
  },
  {
   "cell_type": "code",
   "execution_count": 10,
   "id": "da12a399",
   "metadata": {},
   "outputs": [],
   "source": [
    "vector_embeddings=token_embedding_layer(inputs)"
   ]
  },
  {
   "cell_type": "code",
   "execution_count": 13,
   "id": "a43994b3",
   "metadata": {},
   "outputs": [
    {
     "data": {
      "text/plain": [
       "torch.Size([8, 4, 256])"
      ]
     },
     "execution_count": 13,
     "metadata": {},
     "output_type": "execute_result"
    }
   ],
   "source": [
    "vector_embeddings.size()"
   ]
  },
  {
   "cell_type": "code",
   "execution_count": 18,
   "id": "e120203e",
   "metadata": {},
   "outputs": [],
   "source": [
    "context_length=max_length=4\n",
    "pos_embedding_layer=torch.nn.Embedding(context_length,output_dim)"
   ]
  },
  {
   "cell_type": "code",
   "execution_count": 19,
   "id": "6e1f08a4",
   "metadata": {},
   "outputs": [],
   "source": [
    "pos_embedding=pos_embedding_layer(torch.arange(max_length))"
   ]
  },
  {
   "cell_type": "code",
   "execution_count": 23,
   "id": "6f9ed444",
   "metadata": {},
   "outputs": [
    {
     "data": {
      "text/plain": [
       "torch.Size([8, 4, 256])"
      ]
     },
     "execution_count": 23,
     "metadata": {},
     "output_type": "execute_result"
    }
   ],
   "source": [
    "final_embedding=vector_embeddings+pos_embedding\n",
    "final_embedding.size()"
   ]
  },
  {
   "cell_type": "code",
   "execution_count": null,
   "id": "2262b32f",
   "metadata": {},
   "outputs": [],
   "source": []
  }
 ],
 "metadata": {
  "kernelspec": {
   "display_name": "Python 3 (ipykernel)",
   "language": "python",
   "name": "python3"
  },
  "language_info": {
   "codemirror_mode": {
    "name": "ipython",
    "version": 3
   },
   "file_extension": ".py",
   "mimetype": "text/x-python",
   "name": "python",
   "nbconvert_exporter": "python",
   "pygments_lexer": "ipython3",
   "version": "3.11.5"
  }
 },
 "nbformat": 4,
 "nbformat_minor": 5
}
